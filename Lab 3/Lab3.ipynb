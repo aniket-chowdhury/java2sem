{
 "cells": [
  {
   "cell_type": "code",
   "execution_count": 6,
   "metadata": {},
   "outputs": [
    {
     "name": "stdout",
     "output_type": "stream",
     "text": [
      "Number of digits in given number is : 3\n"
     ]
    }
   ],
   "source": [
    "/*Question 1*/\n",
    "int c=0,a,temp;\n",
    "int n=153;//Itisthenumbertocheckarmstrong\n",
    "temp=n;\n",
    "while(n>0){\n",
    "    a=n%10;\n",
    "    n=n/10;\n",
    "    c=c+1;\n",
    "}\n",
    "System.out.println(\"Number of digits in given number is : \" + c);"
   ]
  },
  {
   "cell_type": "code",
   "execution_count": 14,
   "metadata": {},
   "outputs": [
    {
     "name": "stdout",
     "output_type": "stream",
     "text": [
      "Armstrong Number\n"
     ]
    }
   ],
   "source": [
    "/*Question 2*/\n",
    "int c=0,a,temp;\n",
    "int n=153;\n",
    "temp=n;\n",
    "while(n>0){\n",
    "    a=n%10;\n",
    "    n=n/10;\n",
    "    c=c+1;\n",
    "}\n",
    "n = temp;\n",
    "int sum = 0 ;\n",
    "while(n>0){\n",
    "    sum += Math.pow((n%10), c);\n",
    "    n=n/10;\n",
    "}\n",
    "if(temp == sum)\n",
    "    System.out.println(\"Armstrong Number\");\n",
    "else\n",
    "    System.out.println(\"Not a Armstrong Number\");"
   ]
  },
  {
   "cell_type": "code",
   "execution_count": 16,
   "metadata": {},
   "outputs": [
    {
     "name": "stdout",
     "output_type": "stream",
     "text": [
      "First 10 terms: 0 1 1 2 3 5 8 13 21 34 "
     ]
    }
   ],
   "source": [
    "/*Question 3*/\n",
    "int n = 10, t1 = 0, t2 = 1;\n",
    "System.out.print(\"First \" + n + \" terms: \");\n",
    "\n",
    "for (int i = 1; i <= n; ++i)\n",
    "{\n",
    "    System.out.print(t1 +  \" \");\n",
    "\n",
    "    int sum = t1 + t2;\n",
    "    t1 = t2;\n",
    "    t2 = sum;\n",
    "}"
   ]
  }
 ],
 "metadata": {
  "kernelspec": {
   "display_name": "Java AN.12",
   "language": "java",
   "name": "java"
  },
  "language_info": {
   "codemirror_mode": "java",
   "file_extension": ".java",
   "mimetype": "text/x-java-source",
   "name": "Java",
   "pygments_lexer": "java",
   "version": "10.0.1+10-Debian-4"
  }
 },
 "nbformat": 4,
 "nbformat_minor": 2
}
