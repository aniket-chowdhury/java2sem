{
 "cells": [
  {
   "cell_type": "code",
   "execution_count": 7,
   "metadata": {},
   "outputs": [
    {
     "name": "stdout",
     "output_type": "stream",
     "text": [
      "12345\n",
      "1234\n",
      "123\n",
      "12\n",
      "1\n"
     ]
    }
   ],
   "source": [
    "/*Question 1 for*/\n",
    "int n=5;\n",
    "int i=0;\n",
    "for(i=5; i>0; i--){\n",
    "    for(int t=1; t<=i;t++){\n",
    "        System.out.print(t);\n",
    "    }\n",
    "    System.out.println(\"\");\n",
    "}"
   ]
  },
  {
   "cell_type": "code",
   "execution_count": 7,
   "metadata": {},
   "outputs": [
    {
     "name": "stdout",
     "output_type": "stream",
     "text": [
      "12345\n",
      "1234\n",
      "123\n",
      "12\n",
      "1\n"
     ]
    }
   ],
   "source": [
    "/*Question 1 while*/\n",
    "int n=5;\n",
    "int i=n;\n",
    "while (i>0){\n",
    "    int t = 1;\n",
    "    while (t<=i){\n",
    "        System.out.print(t);\n",
    "        t++;\n",
    "    }\n",
    "    System.out.println(\"\");\n",
    "    i-=1;\n",
    "}"
   ]
  },
  {
   "cell_type": "code",
   "execution_count": 11,
   "metadata": {},
   "outputs": [
    {
     "name": "stdout",
     "output_type": "stream",
     "text": [
      "\n",
      "*****\n",
      "****\n",
      "***\n",
      "**\n",
      "*\n",
      "*\n",
      "**\n",
      "***\n",
      "****\n",
      "*****\n"
     ]
    }
   ],
   "source": [
    "/*Question 2 for*/\n",
    "String ch=\"*\";\n",
    "int n = 5;\n",
    "int i=0;\n",
    "for(i=n; i>0; i--){\n",
    "    System.out.println(\"\");\n",
    "    for(int t=1; t<=i;t++){\n",
    "        System.out.print(ch);\n",
    "    }   \n",
    "}\n",
    "for(i=0; i<=n; i++){\n",
    "    for(int t=1; t<=i;t++){\n",
    "        System.out.print(ch);\n",
    "    }\n",
    "    System.out.println(\"\");\n",
    "}"
   ]
  },
  {
   "cell_type": "code",
   "execution_count": null,
   "metadata": {},
   "outputs": [],
   "source": [
    "/*Question 2 while*/\n",
    "String ch=\"*\";\n",
    "int n = 5;\n",
    "int i=0;\n",
    "for(i=n; i>0; i--){\n",
    "    System.out.println(\"\");\n",
    "    for(int t=1; t<=i;t++){\n",
    "        System.out.print(ch);\n",
    "    }   \n",
    "}\n",
    "for(i=0; i<=n; i++){\n",
    "    for(int t=1; t<=i;t++){\n",
    "        System.out.print(ch);\n",
    "    }\n",
    "    System.out.println(\"\");\n",
    "}"
   ]
  }
 ],
 "metadata": {
  "kernelspec": {
   "display_name": "Java AN.12",
   "language": "java",
   "name": "java"
  },
  "language_info": {
   "codemirror_mode": "java",
   "file_extension": ".java",
   "mimetype": "text/x-java-source",
   "name": "Java",
   "pygments_lexer": "java",
   "version": "10.0.1+10-Debian-4"
  }
 },
 "nbformat": 4,
 "nbformat_minor": 2
}
