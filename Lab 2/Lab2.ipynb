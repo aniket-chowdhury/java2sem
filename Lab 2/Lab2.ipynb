{
 "cells": [
  {
   "cell_type": "code",
   "execution_count": 3,
   "metadata": {},
   "outputs": [
    {
     "name": "stdout",
     "output_type": "stream",
     "text": [
      "a is greater than b\n"
     ]
    }
   ],
   "source": [
    "/*Question 1*/\n",
    "int a=100,b=50;\n",
    "if(a < b){\n",
    "    System.out.println(\"b is greater than a\");\n",
    "} else{\n",
    "    System.out.println(\"a is greater than b\");\n",
    "}"
   ]
  },
  {
   "cell_type": "code",
   "execution_count": 5,
   "metadata": {},
   "outputs": [
    {
     "name": "stdout",
     "output_type": "stream",
     "text": [
      "Number is odd\n"
     ]
    }
   ],
   "source": [
    "/*Question 2*/\n",
    "int n=9;\n",
    "if( n%2 == 0 )\n",
    "    System.out.println(\"Number is even\");\n",
    "else\n",
    "    System.out.println(\"Number is odd\");"
   ]
  },
  {
   "cell_type": "code",
   "execution_count": 6,
   "metadata": {},
   "outputs": [
    {
     "name": "stdout",
     "output_type": "stream",
     "text": [
      "A is greatest\n"
     ]
    }
   ],
   "source": [
    "/*Question 3*/\n",
    "int a=10, b=1, c=2;\n",
    "if (a >= b && a >= c)\n",
    "    System.out.println(\"A is greatest\");\n",
    "else if(b >= a && b >= c)\n",
    "    System.out.println(\"B is greatest\");\n",
    "else \n",
    "    System.out.println(\"C is greatest\");"
   ]
  },
  {
   "cell_type": "code",
   "execution_count": 8,
   "metadata": {},
   "outputs": [
    {
     "name": "stdout",
     "output_type": "stream",
     "text": [
      "Number is Negative\n"
     ]
    }
   ],
   "source": [
    "/*Question 4*/\n",
    "int a=-35;\n",
    "if (a >= 0)\n",
    "    System.out.println(\"Number is Positive\");\n",
    "else\n",
    "    System.out.println(\"Number is Negative\");"
   ]
  },
  {
   "cell_type": "code",
   "execution_count": 10,
   "metadata": {},
   "outputs": [
    {
     "name": "stdout",
     "output_type": "stream",
     "text": [
      "Number is Positive\n",
      "Number is small\n"
     ]
    }
   ],
   "source": [
    "/*Question 5*/\n",
    "float a=1;\n",
    "if (a >= 0)\n",
    "    System.out.println(\"Number is Positive\");\n",
    "else\n",
    "    System.out.println(\"Number is Negative\");\n",
    "\n",
    "if (a > 10000)\n",
    "    System.out.println(\"Number is large\");\n",
    "else if (a <= 1)\n",
    "    System.out.println(\"Number is small\");"
   ]
  },
  {
   "cell_type": "code",
   "execution_count": 18,
   "metadata": {},
   "outputs": [
    {
     "name": "stdout",
     "output_type": "stream",
     "text": [
      "-2.70871215252208\n",
      "-7.2912878474779195\n"
     ]
    }
   ],
   "source": [
    "/*Question 6*/\n",
    "int a=1, b=5, c=1;\n",
    "\n",
    "Double d = Math.pow(b, 2)  - 4*a*c;\n",
    "if(d < 0)\n",
    "    System.out.println(\"Complex Roots\");\n",
    "else if(d == 0){\n",
    "    double r1 = -b / 2*a ;\n",
    "    System.out.println(r1);\n",
    "}\n",
    "else {\n",
    "    double r1 = -b + ( Math.pow(d, 0.5) ) / 2*a ;\n",
    "    double r2 = -b - ( Math.pow(d, 0.5) ) / 2*a ;\n",
    "    System.out.println(r1);\n",
    "    System.out.println(r2);\n",
    "}"
   ]
  },
  {
   "cell_type": "code",
   "execution_count": 19,
   "metadata": {},
   "outputs": [
    {
     "name": "stdout",
     "output_type": "stream",
     "text": [
      "A\n"
     ]
    }
   ],
   "source": [
    "/*Question 7*/\n",
    "int a = 80;\n",
    "int b = 68;\n",
    "int c = 90;\n",
    "int mean = a+b+c/3;\n",
    "if (mean >= 90){\n",
    "    System.out.println(\"A\");\n",
    "}\n",
    "else if (mean >= 70){\n",
    "    System.out.println(\"b\");\n",
    "}    \n",
    "else if (mean >= 50){\n",
    "    System.out.println(\"C\");\n",
    "} \n",
    "else {\n",
    "    System.out.println(\"F\");\n",
    "} \n"
   ]
  },
  {
   "cell_type": "code",
   "execution_count": 22,
   "metadata": {},
   "outputs": [
    {
     "name": "stdout",
     "output_type": "stream",
     "text": [
      "wednesday\n"
     ]
    }
   ],
   "source": [
    "/*Question 8*/\n",
    "int week= 3;\n",
    "switch(week){\n",
    "        case 1:\n",
    "            System.out.println(\"monday\");\n",
    "            break;\n",
    "        case 2:\n",
    "            System.out.println(\"tuesday\");\n",
    "            break;\n",
    "        case 3:\n",
    "            System.out.println(\"wednesday\");\n",
    "            break;\n",
    "        case 4:\n",
    "            System.out.println(\"thursday\");\n",
    "            break;\n",
    "        case 5:\n",
    "            System.out.println(\"friday\");\n",
    "            break;\n",
    "        case 6:\n",
    "            System.out.println(\"saturday\");\n",
    "            break;\n",
    "        case 7:\n",
    "            System.out.println(\"sunday\");\n",
    "            break;\n",
    "        default:\n",
    "            System.out.println(\"Invalid week\");\n",
    "            break;\n",
    "    }"
   ]
  },
  {
   "cell_type": "code",
   "execution_count": 9,
   "metadata": {},
   "outputs": [
    {
     "name": "stdout",
     "output_type": "stream",
     "text": [
      "176.71458676442586\n",
      "47.12388980384689\n"
     ]
    }
   ],
   "source": [
    "/*Question 9*/\n",
    "int week= 3;\n",
    "switch(week){\n",
    "        case 1:\n",
    "            System.out.println(\"monday\");\n",
    "            break;\n",
    "        case 2:\n",
    "            System.out.println(\"tuesday\");\n",
    "            break;\n",
    "        case 3:\n",
    "            System.out.println(\"wednesday\");\n",
    "            break;\n",
    "        case 4:\n",
    "            System.out.println(\"thursday\");\n",
    "            break;\n",
    "        case 5:\n",
    "            System.out.println(\"friday\");\n",
    "            break;\n",
    "        case 6:\n",
    "            System.out.println(\"saturday\");\n",
    "            break;\n",
    "        case 7:\n",
    "            System.out.println(\"sunday\");\n",
    "            break;\n",
    "        default:\n",
    "            System.out.println(\"Invalid week\");\n",
    "            break;\n",
    "    }"
   ]
  },
  {
   "cell_type": "code",
   "execution_count": 24,
   "metadata": {},
   "outputs": [
    {
     "name": "stdout",
     "output_type": "stream",
     "text": [
      "Weekday\n"
     ]
    }
   ],
   "source": [
    "/*Question 10*/\n",
    "int week= 2;\n",
    "switch(week){\n",
    "        case 1:\n",
    "        case 2:\n",
    "        case 3:\n",
    "        case 4:\n",
    "        case 5:\n",
    "            System.out.println(\"Weekday\");\n",
    "            break;\n",
    "        case 6:\n",
    "        case 7:\n",
    "            System.out.println(\"Weekend\");\n",
    "            break;\n",
    "        default:\n",
    "            System.out.println(\"Invalid week\");\n",
    "            break;\n",
    "    }"
   ]
  },
  {
   "cell_type": "code",
   "execution_count": 25,
   "metadata": {},
   "outputs": [
    {
     "name": "stdout",
     "output_type": "stream",
     "text": [
      "Elective courses : Machine Learning, Big Data\n"
     ]
    }
   ],
   "source": [
    "/*Question 11*/\n",
    "int y =2;\n",
    "String branch = \"CSE\";\n",
    "\n",
    "if (y ==2 && branch == \"CSE\") {\n",
    "    System.out.println(\"Elective courses : Machine Learning, Big Data\");\n",
    "}\n",
    "else if (y ==2 && branch == \"ECE\") {\n",
    "    System.out.println(\"Advance math’s, English\");\n",
    "}\n"
   ]
  },
  {
   "cell_type": "code",
   "execution_count": 26,
   "metadata": {},
   "outputs": [
    {
     "name": "stdout",
     "output_type": "stream",
     "text": [
      "March\n"
     ]
    }
   ],
   "source": [
    "/*Question 12*/\n",
    "int month= 3;\n",
    "switch(month){\n",
    "        case 1:\n",
    "            System.out.println(\"January\");\n",
    "            break;\n",
    "        case 2:\n",
    "            System.out.println(\"Feburary\");\n",
    "            break;\n",
    "        case 3:\n",
    "            System.out.println(\"March\");\n",
    "            break;\n",
    "        case 4:\n",
    "            System.out.println(\"April\");\n",
    "            break;\n",
    "        case 5:\n",
    "            System.out.println(\"May\");\n",
    "            break;\n",
    "        case 6:\n",
    "            System.out.println(\"June\");\n",
    "            break;\n",
    "        case 7:\n",
    "            System.out.println(\"July\");\n",
    "            break;\n",
    "        case 8:\n",
    "            System.out.println(\"August\");\n",
    "            break;\n",
    "        case 9:\n",
    "            System.out.println(\"September\");\n",
    "            break;\n",
    "        case 10:\n",
    "            System.out.println(\"October\");\n",
    "            break;\n",
    "        case 11:\n",
    "            System.out.println(\"November\");\n",
    "            break;\n",
    "        case 12:\n",
    "            System.out.println(\"December\");\n",
    "            break;\n",
    "        default:\n",
    "            System.out.println(\"invalid\");\n",
    "            break;\n",
    "    }"
   ]
  },
  {
   "cell_type": "code",
   "execution_count": 30,
   "metadata": {},
   "outputs": [
    {
     "name": "stdout",
     "output_type": "stream",
     "text": [
      "29\n"
     ]
    }
   ],
   "source": [
    "/*Question 13*/\n",
    "int month= 2;\n",
    "int y = 2016;\n",
    "switch(month){\n",
    "        case 1:\n",
    "            System.out.println(\"31\");\n",
    "            break;\n",
    "        case 2:\n",
    "            if (y%4== 0)\n",
    "                System.out.println(\"29\");\n",
    "            else\n",
    "                System.out.println(\"28\");\n",
    "            break;\n",
    "        case 3:\n",
    "            System.out.println(\"31\");\n",
    "            break;\n",
    "        case 4:\n",
    "            System.out.println(\"30\");\n",
    "            break;\n",
    "        case 5:\n",
    "            System.out.println(\"31\");\n",
    "            break;\n",
    "        case 6:\n",
    "            System.out.println(\"30\");\n",
    "            break;\n",
    "        case 7:\n",
    "            System.out.println(\"31\");\n",
    "            break;\n",
    "        case 8:\n",
    "            System.out.println(\"30\");\n",
    "            break;\n",
    "        case 9:\n",
    "            System.out.println(\"31\");\n",
    "            break;\n",
    "        case 10:\n",
    "            System.out.println(\"30\");\n",
    "            break;\n",
    "        case 11:\n",
    "            System.out.println(\"31\");\n",
    "            break;\n",
    "        case 12:\n",
    "            System.out.println(\"30\");\n",
    "            break;\n",
    "        default:\n",
    "            System.out.println(\"31\");\n",
    "            break;\n",
    "    }"
   ]
  }
 ],
 "metadata": {
  "kernelspec": {
   "display_name": "Java AN.12",
   "language": "java",
   "name": "java"
  },
  "language_info": {
   "codemirror_mode": "java",
   "file_extension": ".java",
   "mimetype": "text/x-java-source",
   "name": "Java",
   "pygments_lexer": "java",
   "version": "10.0.1+10-Debian-4"
  }
 },
 "nbformat": 4,
 "nbformat_minor": 2
}
